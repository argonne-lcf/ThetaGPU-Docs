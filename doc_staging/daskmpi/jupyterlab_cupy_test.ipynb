{
 "cells": [
  {
   "cell_type": "markdown",
   "id": "naked-brain",
   "metadata": {},
   "source": [
    "# Dask + CuPy\n",
    "\n",
    "from \"[GPU Dask Arrays, first steps: throwing Dask and CuPy together](https://blog.dask.org/2019/01/03/dask-array-gpus-first-steps)\""
   ]
  },
  {
   "cell_type": "code",
   "execution_count": 1,
   "id": "aware-florence",
   "metadata": {},
   "outputs": [],
   "source": [
    "import cupy\n",
    "import dask.array as da\n",
    "import time"
   ]
  },
  {
   "cell_type": "code",
   "execution_count": 2,
   "id": "bored-cream",
   "metadata": {},
   "outputs": [],
   "source": [
    "size = 100000"
   ]
  },
  {
   "cell_type": "markdown",
   "id": "competent-gibraltar",
   "metadata": {},
   "source": [
    "## with GPU"
   ]
  },
  {
   "cell_type": "code",
   "execution_count": 7,
   "id": "surface-arbor",
   "metadata": {},
   "outputs": [
    {
     "name": "stdout",
     "output_type": "stream",
     "text": [
      "80.0\n"
     ]
    }
   ],
   "source": [
    "# with GPU\n",
    "rs = da.random.RandomState(RandomState=cupy.random.RandomState)\n",
    "\n",
    "x = rs.normal(10, 1, size=(size, size), chunks=(5000, 5000))    \n",
    "print(x.nbytes / 1e9)  # 80 GB"
   ]
  },
  {
   "cell_type": "code",
   "execution_count": 8,
   "id": "weekly-shelter",
   "metadata": {},
   "outputs": [
    {
     "name": "stdout",
     "output_type": "stream",
     "text": [
      "CPU times: user 4.22 s, sys: 922 ms, total: 5.15 s\n",
      "Wall time: 4.97 s\n"
     ]
    },
    {
     "data": {
      "text/plain": [
       "array(2.75000274e+10)"
      ]
     },
     "execution_count": 8,
     "metadata": {},
     "output_type": "execute_result"
    }
   ],
   "source": [
    "%%time\n",
    "\n",
    "(x + 1)[::2, ::2].sum().compute()"
   ]
  },
  {
   "cell_type": "markdown",
   "id": "sorted-capability",
   "metadata": {},
   "source": [
    "## without GPU"
   ]
  },
  {
   "cell_type": "code",
   "execution_count": 5,
   "id": "upper-canyon",
   "metadata": {},
   "outputs": [],
   "source": [
    "# without GPU\n",
    "rs = da.random.RandomState()\n",
    "    \n",
    "x = rs.normal(10, 1, size=(size, size), chunks=(5000, 5000))\n",
    "#print(x.nbytes / 1e9)  # 80 GB"
   ]
  },
  {
   "cell_type": "code",
   "execution_count": 6,
   "id": "honey-hundred",
   "metadata": {},
   "outputs": [
    {
     "name": "stdout",
     "output_type": "stream",
     "text": [
      "CPU times: user 8min 45s, sys: 1min 7s, total: 9min 52s\n",
      "Wall time: 20.2 s\n"
     ]
    },
    {
     "data": {
      "text/plain": [
       "27500007433.023296"
      ]
     },
     "execution_count": 6,
     "metadata": {},
     "output_type": "execute_result"
    }
   ],
   "source": [
    "%%time\n",
    "\n",
    "(x + 1)[::2, ::2].sum().compute()"
   ]
  },
  {
   "cell_type": "code",
   "execution_count": null,
   "id": "concerned-compact",
   "metadata": {},
   "outputs": [],
   "source": []
  }
 ],
 "metadata": {
  "kernelspec": {
   "display_name": "Python [conda env:cup]",
   "language": "python",
   "name": "cup"
  },
  "language_info": {
   "codemirror_mode": {
    "name": "ipython",
    "version": 3
   },
   "file_extension": ".py",
   "mimetype": "text/x-python",
   "name": "python",
   "nbconvert_exporter": "python",
   "pygments_lexer": "ipython3",
   "version": "3.7.9"
  }
 },
 "nbformat": 4,
 "nbformat_minor": 5
}
